{
 "cells": [
  {
   "cell_type": "markdown",
   "metadata": {},
   "source": [
    "Note:\n",
    "- Great wall nggak pernah ada di website ini, jadi dihapus\n",
    "- scraping disini lakukan ketika pas banget akhir bulan, karena tanggal dia berdasarkan beberapa hari lalu, jika lebih dari 30 hari itungannya masuk ke bulan, dan itu nggak lolos validasi"
   ]
  },
  {
   "cell_type": "code",
   "execution_count": 1,
   "metadata": {},
   "outputs": [],
   "source": [
    "from selenium import webdriver\n",
    "from bs4 import BeautifulSoup\n",
    "import pandas as pd\n",
    "import time\n",
    "from webdriver_manager.chrome import ChromeDriverManager"
   ]
  },
  {
   "cell_type": "code",
   "execution_count": 2,
   "metadata": {},
   "outputs": [
    {
     "name": "stderr",
     "output_type": "stream",
     "text": [
      "c:\\Users\\Nicko\\AppData\\Local\\Programs\\Python\\Python37\\lib\\site-packages\\ipykernel_launcher.py:1: DeprecationWarning: executable_path has been deprecated, please pass in a Service object\n",
      "  \"\"\"Entry point for launching an IPython kernel.\n"
     ]
    }
   ],
   "source": [
    "driver = webdriver.Chrome(ChromeDriverManager().install())"
   ]
  },
  {
   "cell_type": "code",
   "execution_count": 3,
   "metadata": {},
   "outputs": [],
   "source": [
    "def brand_valid(title, brand):\n",
    "    \n",
    "    if brand.lower() in title.lower():\n",
    "        return True\n",
    "    elif \"VW\".lower() in title.lower() and brand.lower() == \"volkswagen\":\n",
    "        return True\n",
    "    elif \"Benz\".lower() in title.lower() and brand.lower() == \"mercedes\":\n",
    "        return True\n",
    "\n",
    "    return False"
   ]
  },
  {
   "cell_type": "code",
   "execution_count": 4,
   "metadata": {},
   "outputs": [
    {
     "name": "stdout",
     "output_type": "stream",
     "text": [
      "\n",
      "Total news this month: 304\n"
     ]
    }
   ],
   "source": [
    "brands = [\"Audi\", \"BMW\", \"Chery\", \"Chevrolet\", \"Chrysler\", \"Daihatsu\", \"Datsun\", \"Ford\", \"Foton\", \"Hino\", \"Honda\", \"Hummer\", \"Hyundai\", \"Isuzu\", \"Jaguar\", \"Jeep\", \"Kia\", \"Land Rover\", \"Lexus\", \"Mazda\", \"Mercedes\", \"Mitsubishi\", \"Nissan\", \"Opel\", \"Peugeot\", \"Proton\", \"Renault\", \"SSangyong\", \"Subaru\", \"Suzuki\", \"Toyota\", \"UD Trucks\", \"Volkswagen\", \"Volvo\", \"Wuling\", \"Yamaha\"]\n",
    "titles_list = []\n",
    "brands_list = []\n",
    "count = 0\n",
    "url = \"https://otomotifnet.gridoto.com/tag/\"\n",
    "\n",
    "for brand in brands:\n",
    "    brand_count = 0\n",
    "    page = 1\n",
    "    stop = False\n",
    "\n",
    "    while True:\n",
    "        driver.get(url + brand + \"?page=\" + str(page))\n",
    "        content = driver.page_source\n",
    "        soup = BeautifulSoup(content)\n",
    "        page += 1\n",
    "\n",
    "        for news in soup.findAll('div', attrs={'class':'news-list__item l-index clearfix'}):\n",
    "            title = news.find('h2', attrs={'class':'news-list__title'}).text.strip()\n",
    "            date =  news.find('div', attrs={'class':'news-list__date'}).text.strip()\n",
    "            \n",
    "            if brand_valid(title, brand) and \"Bulan\" not in date and \"Tahun\" not in date:\n",
    "                \n",
    "                titles_list.append(title)\n",
    "                brands_list.append(brand)\n",
    "                count+=1\n",
    "                brand_count += 1\n",
    "            elif \"Bulan\" in date or \"Tahun\" in date:\n",
    "                stop = True\n",
    "                break\n",
    "        \n",
    "        if stop == True:\n",
    "            break\n",
    "    # print(\"Total news this month for \" + brand + \": \" + str(brand_count)) # <-- uncomment jika ingin melihat berita masing masing brand tiap bulan\n",
    "print(\"\\nTotal news this month: \" + str(count))"
   ]
  },
  {
   "cell_type": "code",
   "execution_count": 7,
   "metadata": {},
   "outputs": [],
   "source": [
    "# csv = pd.read_csv(\"../CSV/otomotifnet_gridoto.csv\")\n",
    "# csv = csv[\"Title\"].tolist()\n",
    "\n",
    "# for data in titles_list:\n",
    "#     if data not in csv:\n",
    "#         print (data)"
   ]
  },
  {
   "cell_type": "code",
   "execution_count": 6,
   "metadata": {},
   "outputs": [],
   "source": [
    "date = \"Mei 2022\"\n",
    "\n",
    "df = pd.DataFrame({'Title':titles_list, 'Brand':brands_list})\n",
    "df.to_csv(f\"../CSV/{date}/otomotifnet_gridoto.csv\", index=False)"
   ]
  }
 ],
 "metadata": {
  "interpreter": {
   "hash": "9d30061432820cb98946eb70b0c0903897d55a78bc8822b7d8106c3ae1880d4b"
  },
  "kernelspec": {
   "display_name": "Python 3.7.6 64-bit",
   "language": "python",
   "name": "python3"
  },
  "language_info": {
   "codemirror_mode": {
    "name": "ipython",
    "version": 3
   },
   "file_extension": ".py",
   "mimetype": "text/x-python",
   "name": "python",
   "nbconvert_exporter": "python",
   "pygments_lexer": "ipython3",
   "version": "3.7.6"
  },
  "orig_nbformat": 4
 },
 "nbformat": 4,
 "nbformat_minor": 2
}
