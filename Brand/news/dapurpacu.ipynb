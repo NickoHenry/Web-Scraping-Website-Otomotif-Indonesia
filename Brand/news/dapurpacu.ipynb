{
 "cells": [
  {
   "cell_type": "markdown",
   "metadata": {},
   "source": [
    "Note:\n",
    "- ini website berat banget load nya"
   ]
  },
  {
   "cell_type": "code",
   "execution_count": 1,
   "metadata": {},
   "outputs": [],
   "source": [
    "from selenium import webdriver\n",
    "from bs4 import BeautifulSoup\n",
    "import pandas as pd\n",
    "import time\n",
    "from webdriver_manager.chrome import ChromeDriverManager"
   ]
  },
  {
   "cell_type": "code",
   "execution_count": 2,
   "metadata": {},
   "outputs": [
    {
     "name": "stderr",
     "output_type": "stream",
     "text": [
      "[WDM] - Downloading: 100%|██████████| 6.21M/6.21M [00:00<00:00, 11.3MB/s]\n",
      "c:\\Users\\Nicko\\AppData\\Local\\Programs\\Python\\Python37\\lib\\site-packages\\ipykernel_launcher.py:1: DeprecationWarning: executable_path has been deprecated, please pass in a Service object\n",
      "  \"\"\"Entry point for launching an IPython kernel.\n"
     ]
    }
   ],
   "source": [
    "driver = webdriver.Chrome(ChromeDriverManager().install())"
   ]
  },
  {
   "cell_type": "code",
   "execution_count": 3,
   "metadata": {},
   "outputs": [],
   "source": [
    "def brand_valid(title, brand):\n",
    "    \n",
    "    if brand.lower() in title.lower():\n",
    "        return True\n",
    "    elif \"VW\".lower() in title.lower() and brand.lower() == \"volkswagen\":\n",
    "        return True\n",
    "    elif \"Benz\".lower() in title.lower() and brand.lower() == \"mercedes\":\n",
    "        return True\n",
    "\n",
    "    return False"
   ]
  },
  {
   "cell_type": "code",
   "execution_count": 4,
   "metadata": {},
   "outputs": [
    {
     "name": "stdout",
     "output_type": "stream",
     "text": [
      "Total news this month for Audi: 0\n",
      "Total news this month for BMW: 4\n",
      "Total news this month for Chery: 0\n",
      "Total news this month for Chevrolet: 0\n",
      "Total news this month for Chrysler: 0\n",
      "Total news this month for Daihatsu: 3\n",
      "Total news this month for Datsun: 0\n",
      "Total news this month for Ford: 0\n",
      "Total news this month for Foton: 0\n",
      "Total news this month for Hino: 1\n",
      "Total news this month for Honda: 8\n",
      "Total news this month for Hummer: 0\n",
      "Total news this month for Hyundai: 2\n",
      "Total news this month for Isuzu: 0\n",
      "Total news this month for Jaguar: 0\n",
      "Total news this month for Jeep: 0\n",
      "Total news this month for Kia: 0\n",
      "Total news this month for Land Rover: 0\n",
      "Total news this month for Lexus: 0\n",
      "Total news this month for Mazda: 0\n",
      "Total news this month for Mercedes: 0\n",
      "Total news this month for Mitsubishi: 5\n",
      "Total news this month for Nissan: 0\n",
      "Total news this month for Opel: 0\n",
      "Total news this month for Peugeot: 5\n",
      "Total news this month for Proton: 0\n",
      "Total news this month for Renault: 0\n",
      "Total news this month for SSangyong: 0\n",
      "Total news this month for Subaru: 1\n",
      "Total news this month for Suzuki: 3\n",
      "Total news this month for Toyota: 1\n",
      "Total news this month for UD Trucks: 0\n",
      "Total news this month for Volkswagen: 1\n",
      "Total news this month for Volvo: 0\n",
      "Total news this month for Wuling: 4\n",
      "Total news this month for Yamaha: 3\n",
      "\n",
      "Total news this month: 41\n"
     ]
    }
   ],
   "source": [
    "brands = [\"Audi\", \"BMW\", \"Chery\", \"Chevrolet\", \"Chrysler\", \"Daihatsu\", \"Datsun\", \"Ford\", \"Foton\", \"Hino\", \"Honda\", \"Hummer\", \"Hyundai\", \"Isuzu\", \"Jaguar\", \"Jeep\", \"Kia\", \"Land Rover\", \"Lexus\", \"Mazda\", \"Mercedes\", \"Mitsubishi\", \"Nissan\", \"Opel\", \"Peugeot\", \"Proton\", \"Renault\", \"SSangyong\", \"Subaru\", \"Suzuki\", \"Toyota\", \"UD Trucks\", \"Volkswagen\", \"Volvo\", \"Wuling\", \"Yamaha\"]\n",
    "titles_list = []\n",
    "brands_list = []\n",
    "count = 0\n",
    "url = \"https://dapurpacu.id/?s=\"\n",
    "month = \"May\"\n",
    "year = \"2022\"\n",
    "\n",
    "for brand in brands:\n",
    "    driver.get(url + brand)\n",
    "    content = driver.page_source\n",
    "    soup = BeautifulSoup(content)\n",
    "    brand_count = 0\n",
    "\n",
    "    for news in soup.findAll('article', attrs={'class':'post'}):\n",
    "        title = news.find('h2', attrs={'class':'entry-title'}).text.strip() \n",
    "        date =  news.find('time', attrs={'class':'entry-date'}).text.strip()\n",
    "        \n",
    "        if brand_valid(title, brand) and month in date and year in date:\n",
    "            titles_list.append(title)\n",
    "            brands_list.append(brand)\n",
    "            count += 1\n",
    "            brand_count += 1\n",
    "            \n",
    "    # print(\"Total news this month for \" + brand + \": \" + str(brand_count))\n",
    "print(\"\\nTotal news this month: \" + str(count))"
   ]
  },
  {
   "cell_type": "code",
   "execution_count": 5,
   "metadata": {},
   "outputs": [],
   "source": [
    "date = \"Mei 2022\"\n",
    "\n",
    "df = pd.DataFrame({'Title':titles_list, 'Brand':brands_list})\n",
    "df.to_csv(f\"../../CSV/{date}/dapurpacu.csv\", index=False)"
   ]
  }
 ],
 "metadata": {
  "kernelspec": {
   "display_name": "Python 3.7.6 64-bit",
   "language": "python",
   "name": "python3"
  },
  "language_info": {
   "codemirror_mode": {
    "name": "ipython",
    "version": 3
   },
   "file_extension": ".py",
   "mimetype": "text/x-python",
   "name": "python",
   "nbconvert_exporter": "python",
   "pygments_lexer": "ipython3",
   "version": "3.7.6"
  },
  "orig_nbformat": 4,
  "vscode": {
   "interpreter": {
    "hash": "9d30061432820cb98946eb70b0c0903897d55a78bc8822b7d8106c3ae1880d4b"
   }
  }
 },
 "nbformat": 4,
 "nbformat_minor": 2
}
