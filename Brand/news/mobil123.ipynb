{
 "cells": [
  {
   "cell_type": "code",
   "execution_count": 1,
   "metadata": {},
   "outputs": [],
   "source": [
    "from selenium import webdriver\n",
    "from bs4 import BeautifulSoup\n",
    "import pandas as pd\n",
    "import time\n",
    "from webdriver_manager.chrome import ChromeDriverManager"
   ]
  },
  {
   "cell_type": "code",
   "execution_count": 2,
   "metadata": {},
   "outputs": [
    {
     "name": "stderr",
     "output_type": "stream",
     "text": [
      "c:\\Users\\Nicko\\AppData\\Local\\Programs\\Python\\Python37\\lib\\site-packages\\ipykernel_launcher.py:1: DeprecationWarning: executable_path has been deprecated, please pass in a Service object\n",
      "  \"\"\"Entry point for launching an IPython kernel.\n"
     ]
    }
   ],
   "source": [
    "driver = webdriver.Chrome(ChromeDriverManager().install())"
   ]
  },
  {
   "cell_type": "code",
   "execution_count": 3,
   "metadata": {},
   "outputs": [],
   "source": [
    "def brand_valid(title, brand):\n",
    "    \n",
    "    if brand.lower() in title.lower():\n",
    "        return True\n",
    "    elif \"VW\".lower() in title.lower() and brand.lower() == \"volkswagen\":\n",
    "        return True\n",
    "    elif \"Benz\".lower() in title.lower() and brand.lower() == \"mercedes\":\n",
    "        return True\n",
    "\n",
    "    return False"
   ]
  },
  {
   "cell_type": "code",
   "execution_count": 4,
   "metadata": {},
   "outputs": [
    {
     "name": "stdout",
     "output_type": "stream",
     "text": [
      "\n",
      "Total news this month: 52\n"
     ]
    }
   ],
   "source": [
    "brands = [\"Audi\", \"BMW\", \"Chery\", \"Chevrolet\", \"Chrysler\", \"Daihatsu\", \"Datsun\", \"Ford\", \"Foton\", \"Great Wall\", \"Hino\", \"Honda\", \"Hummer\", \"Hyundai\", \"Isuzu\", \"Jaguar\", \"Jeep\", \"Kia\", \"Land Rover\", \"Lexus\", \"Mazda\", \"Mercedes\", \"Mitsubishi\", \"Nissan\", \"Opel\", \"Peugeot\", \"Proton\", \"Renault\", \"SSangyong\", \"Subaru\", \"Suzuki\", \"Toyota\", \"UD Trucks\", \"Volkswagen\", \"Volvo\", \"Wuling\", \"Yamaha\"]\n",
    "titles_list = []\n",
    "brands_list = []\n",
    "count = 0\n",
    "url = \"https://www.mobil123.com/berita/berita-otomotif?page_number=\"\n",
    "page = 1\n",
    "stop_month = \"April\" #stop ketika bulan ini\n",
    "month = \"Mei\"\n",
    "stop = False\n",
    "\n",
    "while(True):\n",
    "    driver.get(url + str(page))\n",
    "    page += 1\n",
    "\n",
    "    content = driver.page_source\n",
    "    soup = BeautifulSoup(content)\n",
    "\n",
    "    for news in soup.findAll('article', attrs={'class':'article article--listing media push--bottom'}):\n",
    "        title = news.find('a', attrs={'class':'text--clamp'}).text.strip()\n",
    "        date = news.find('div', attrs={'class':'article__meta text--muted micro text--truncate text--uppercase'}).text.strip()\n",
    "        \n",
    "        if stop_month in date:\n",
    "            stop = True\n",
    "            break\n",
    "        \n",
    "        for brand in brands:\n",
    "            if brand_valid(title, brand) and month in date:\n",
    "                titles_list.append(title)\n",
    "                brands_list.append(brand)\n",
    "                count+=1\n",
    "                # print(title + \" - \" + date)\n",
    "\n",
    "    if stop == True:\n",
    "        break\n",
    "    \n",
    "print(\"\\nTotal news this month: \" + str(count))"
   ]
  },
  {
   "cell_type": "code",
   "execution_count": 5,
   "metadata": {},
   "outputs": [],
   "source": [
    "date = \"Mei 2022\"\n",
    "\n",
    "df = pd.DataFrame({'Title':titles_list, 'Brand':brands_list})\n",
    "df = df.sort_values(by=['Brand'])\n",
    "df.to_csv(f\"../../CSV/{date}/mobil123.csv\", index=False)"
   ]
  },
  {
   "cell_type": "code",
   "execution_count": 6,
   "metadata": {},
   "outputs": [],
   "source": [
    "# for brand in brands:\n",
    "#     count = df.loc[df[\"Brand\"] == brand].count()[0]\n",
    "#     print(\"Total news this month for \" + brand + \": \" + str(count))"
   ]
  }
 ],
 "metadata": {
  "kernelspec": {
   "display_name": "Python 3.7.6 64-bit",
   "language": "python",
   "name": "python3"
  },
  "language_info": {
   "codemirror_mode": {
    "name": "ipython",
    "version": 3
   },
   "file_extension": ".py",
   "mimetype": "text/x-python",
   "name": "python",
   "nbconvert_exporter": "python",
   "pygments_lexer": "ipython3",
   "version": "3.7.6"
  },
  "orig_nbformat": 4,
  "vscode": {
   "interpreter": {
    "hash": "9d30061432820cb98946eb70b0c0903897d55a78bc8822b7d8106c3ae1880d4b"
   }
  }
 },
 "nbformat": 4,
 "nbformat_minor": 2
}
