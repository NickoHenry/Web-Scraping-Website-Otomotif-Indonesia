{
 "cells": [
  {
   "cell_type": "code",
   "execution_count": 69,
   "metadata": {},
   "outputs": [],
   "source": [
    "from selenium import webdriver\n",
    "from selenium.webdriver.common.by import By\n",
    "from bs4 import BeautifulSoup\n",
    "import pandas as pd\n",
    "import time\n",
    "from webdriver_manager.chrome import ChromeDriverManager"
   ]
  },
  {
   "cell_type": "code",
   "execution_count": 70,
   "metadata": {},
   "outputs": [
    {
     "name": "stderr",
     "output_type": "stream",
     "text": [
      "c:\\Users\\Nicko\\AppData\\Local\\Programs\\Python\\Python37\\lib\\site-packages\\ipykernel_launcher.py:1: DeprecationWarning: executable_path has been deprecated, please pass in a Service object\n",
      "  \"\"\"Entry point for launching an IPython kernel.\n"
     ]
    }
   ],
   "source": [
    "driver = webdriver.Chrome(ChromeDriverManager().install())"
   ]
  },
  {
   "cell_type": "code",
   "execution_count": 71,
   "metadata": {},
   "outputs": [],
   "source": [
    "def brand_valid(title, brand):\n",
    "    \n",
    "    if brand.lower() in title.lower():\n",
    "        return True\n",
    "    elif \"VW\".lower() in title.lower() and brand.lower() == \"volkswagen\":\n",
    "        return True\n",
    "    elif \"Benz\".lower() in title.lower() and brand.lower() == \"mercedes\":\n",
    "        return True\n",
    "\n",
    "    return False"
   ]
  },
  {
   "cell_type": "code",
   "execution_count": 72,
   "metadata": {},
   "outputs": [
    {
     "name": "stdout",
     "output_type": "stream",
     "text": [
      "\n",
      "Total news on this month: 103\n"
     ]
    }
   ],
   "source": [
    "brands = [\"Audi\", \"BMW\", \"Chery\", \"Chevrolet\", \"Chrysler\", \"Daihatsu\", \"Datsun\", \"Ford\", \"Foton\", \"Hino\", \"Honda\", \"Hummer\", \"Hyundai\", \"Isuzu\", \"Jaguar\", \"Jeep\", \"Kia\", \"Land Rover\", \"Lexus\", \"Mazda\", \"Mercedes\", \"Mitsubishi\", \"Nissan\", \"Opel\", \"Peugeot\", \"Proton\", \"Renault\", \"SSangyong\", \"Subaru\", \"Suzuki\", \"Toyota\", \"UD Trucks\", \"Volkswagen\", \"Volvo\", \"Wuling\", \"Yamaha\"]\n",
    "types = [\"Mobil\", \"Otomotif\", \"Bisnis\"]\n",
    "titles_list = []\n",
    "brands_list = []\n",
    "count = 0\n",
    "url = \"https://www.viva.co.id/search?q=\"\n",
    "month = \"Mei\"\n",
    "scraping_month = \"Juni\"\n",
    "year = \"2022\"\n",
    "SCROLL_RANGE = 3500\n",
    "\n",
    "for brand in brands:\n",
    "    driver.get(url + brand)\n",
    "    content = driver.page_source\n",
    "    soup = BeautifulSoup(content)\n",
    "    brand_count = 0\n",
    "    SCROLL_HEIGHT = 2100\n",
    "\n",
    "    last_index = soup.find('div', attrs={'class':'article-list-container'}).findAll('div', attrs={'class':'article-list-row'})[-1].find('div', attrs={'class':'article-list-date content_center'}).text.strip()\n",
    "    time.sleep(1)\n",
    "    driver.execute_script(\"window.scrollTo(0, 0);\")\n",
    "    time.sleep(5)\n",
    "    driver.execute_script(\"window.scrollTo(0, \" + str(SCROLL_HEIGHT) + \");\")\n",
    "\n",
    "    # scroll terus sampai datanya abis\n",
    "    while year in last_index and (scraping_month in last_index or month in last_index):\n",
    "        time.sleep(1)\n",
    "        try:\n",
    "            driver.find_element(By.ID, \"load-more-btn\").click()\n",
    "        except:\n",
    "            print(\"ERORRRRRRRR..............!!!\")\n",
    "            break\n",
    "        content = driver.page_source\n",
    "        soup = BeautifulSoup(content)\n",
    "        last_index = soup.find('div', attrs={'class':'article-list-container'}).findAll('div', attrs={'class':'article-list-row'})[-1].find('div', attrs={'class':'article-list-date content_center'}).text.strip()\n",
    "        \n",
    "        SCROLL_HEIGHT += SCROLL_RANGE\n",
    "        time.sleep(2)\n",
    "        driver.execute_script(\"window.scrollTo(0, \" + str(SCROLL_HEIGHT) + \");\")\n",
    "    \n",
    "    for news in soup.find('div', attrs={'class':'article-list-container'}).findAll('div', attrs={'class':'article-list-row'}):\n",
    "        title = news.find('a', attrs={'class':'article-list-title'}).text.strip()\n",
    "        date = news.find('div', attrs={'class':'article-list-date content_center'}).text.strip()\n",
    "        type = news.find('a', attrs={'class':'article-list-cate content_center'}).text.strip()\n",
    "\n",
    "        if brand_valid(title, brand) and month in date and type in types:\n",
    "            titles_list.append(title)\n",
    "            brands_list.append(brand)\n",
    "\n",
    "            brand_count += 1\n",
    "            count += 1\n",
    "        \n",
    "    # print(\"Total news on this month for \" + brand + \": \" + str(brand_count))\n",
    "print(\"\\nTotal news on this month: \" + str(count))\n",
    "\n",
    "    "
   ]
  },
  {
   "cell_type": "code",
   "execution_count": null,
   "metadata": {},
   "outputs": [],
   "source": [
    "date = \"Mei 2022\"\n",
    "df = pd.DataFrame({'Title':titles_list, 'Brand':brands_list})\n",
    "df.to_csv(f\"../../CSV/{date}/viva.csv\", index=False)"
   ]
  }
 ],
 "metadata": {
  "kernelspec": {
   "display_name": "Python 3.7.6 64-bit",
   "language": "python",
   "name": "python3"
  },
  "language_info": {
   "codemirror_mode": {
    "name": "ipython",
    "version": 3
   },
   "file_extension": ".py",
   "mimetype": "text/x-python",
   "name": "python",
   "nbconvert_exporter": "python",
   "pygments_lexer": "ipython3",
   "version": "3.7.6"
  },
  "orig_nbformat": 4,
  "vscode": {
   "interpreter": {
    "hash": "9d30061432820cb98946eb70b0c0903897d55a78bc8822b7d8106c3ae1880d4b"
   }
  }
 },
 "nbformat": 4,
 "nbformat_minor": 2
}
