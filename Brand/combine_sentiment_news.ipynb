{
 "cells": [
  {
   "cell_type": "code",
   "execution_count": 1,
   "metadata": {},
   "outputs": [],
   "source": [
    "import numpy as np\n",
    "import pandas as pd\n",
    "import os"
   ]
  },
  {
   "cell_type": "code",
   "execution_count": 2,
   "metadata": {},
   "outputs": [],
   "source": [
    "df = pd.DataFrame()\n",
    "for filename in os.listdir(\"../CSV/Mei 2022/\"):\n",
    "    if(filename == \"sentiment_dataset_unlabelled.csv\" or filename == \"sentiment_dataset_labelled.csv\"):\n",
    "        continue\n",
    "\n",
    "    df_temp = pd.read_csv(\"../CSV/Mei 2022/\" + filename)\n",
    "    df = df.append(df_temp)\n",
    "\n",
    "df = df.sort_values(by=[\"Brand\"]).reset_index(drop=True)"
   ]
  },
  {
   "cell_type": "code",
   "execution_count": 3,
   "metadata": {},
   "outputs": [
    {
     "name": "stdout",
     "output_type": "stream",
     "text": [
      "Brand yang menggunakan nama lain di berita:\n",
      "-----------------------------------------------\n",
      "496. Ducati dan VW Sepakat Merakit Lokal di Argentina - Volkswagen\n"
     ]
    }
   ],
   "source": [
    "print(\"Brand yang menggunakan nama lain di berita:\\n-----------------------------------------------\")\n",
    "for i in range (len(df)):\n",
    "    title = df[\"Title\"][i]\n",
    "    brand = df[\"Brand\"][i]\n",
    "\n",
    "    if brand.lower() not in title.lower():\n",
    "        print(str(i) + \". \" + title + \" - \" + brand)"
   ]
  },
  {
   "cell_type": "code",
   "execution_count": 4,
   "metadata": {},
   "outputs": [
    {
     "name": "stdout",
     "output_type": "stream",
     "text": [
      "Brand yang tidak ada berita sama sekali:\n",
      "-----------------------------------------------\n",
      "Chrysler\n",
      "Hummer\n",
      "Jaguar\n",
      "Kia\n",
      "Opel\n",
      "Proton\n",
      "SSangyong\n",
      "UD Trucks\n"
     ]
    }
   ],
   "source": [
    "print(\"Brand yang tidak ada berita sama sekali:\\n-----------------------------------------------\")\n",
    "brands = [\"Audi\", \"BMW\", \"Chery\", \"Chevrolet\", \"Chrysler\", \"Daihatsu\", \"Datsun\", \"Ford\", \"Foton\", \"Hino\", \"Honda\", \"Hummer\", \"Hyundai\", \"Isuzu\", \"Jaguar\", \"Jeep\", \"Kia\", \"Land Rover\", \"Lexus\", \"Mazda\", \"Mercedes\", \"Mitsubishi\", \"Nissan\", \"Opel\", \"Peugeot\", \"Proton\", \"Renault\", \"SSangyong\", \"Subaru\", \"Suzuki\", \"Toyota\", \"UD Trucks\", \"Volkswagen\", \"Volvo\", \"Wuling\", \"Yamaha\"]\n",
    "\n",
    "for brand in brands:\n",
    "    if brand not in df[\"Brand\"].tolist():\n",
    "        print(brand)"
   ]
  },
  {
   "cell_type": "code",
   "execution_count": 5,
   "metadata": {},
   "outputs": [
    {
     "data": {
      "text/html": [
       "<div>\n",
       "<style scoped>\n",
       "    .dataframe tbody tr th:only-of-type {\n",
       "        vertical-align: middle;\n",
       "    }\n",
       "\n",
       "    .dataframe tbody tr th {\n",
       "        vertical-align: top;\n",
       "    }\n",
       "\n",
       "    .dataframe thead th {\n",
       "        text-align: right;\n",
       "    }\n",
       "</style>\n",
       "<table border=\"1\" class=\"dataframe\">\n",
       "  <thead>\n",
       "    <tr style=\"text-align: right;\">\n",
       "      <th></th>\n",
       "      <th>Title</th>\n",
       "      <th>Brand</th>\n",
       "    </tr>\n",
       "  </thead>\n",
       "  <tbody>\n",
       "    <tr>\n",
       "      <th>0</th>\n",
       "      <td>Audi Siapkan Mobil Q5 Generasi Baru</td>\n",
       "      <td>Audi</td>\n",
       "    </tr>\n",
       "    <tr>\n",
       "      <th>1</th>\n",
       "      <td>Akhirnya! BMW M4 CSL 2023 Telah Rilis</td>\n",
       "      <td>BMW</td>\n",
       "    </tr>\n",
       "    <tr>\n",
       "      <th>2</th>\n",
       "      <td>Begini Penampakan Mobil SUV Terbaru yang Menja...</td>\n",
       "      <td>BMW</td>\n",
       "    </tr>\n",
       "    <tr>\n",
       "      <th>3</th>\n",
       "      <td>BMW Resmi Meluncurkan Mobil dengan Penyegaran ...</td>\n",
       "      <td>BMW</td>\n",
       "    </tr>\n",
       "    <tr>\n",
       "      <th>4</th>\n",
       "      <td>BMW Astra Ajak Konsumennya Menjajal Sirkuit Se...</td>\n",
       "      <td>BMW</td>\n",
       "    </tr>\n",
       "    <tr>\n",
       "      <th>...</th>\n",
       "      <td>...</td>\n",
       "      <td>...</td>\n",
       "    </tr>\n",
       "    <tr>\n",
       "      <th>547</th>\n",
       "      <td>Antisipasi Ketikung Tim Lain, Fabio Quartararo...</td>\n",
       "      <td>Yamaha</td>\n",
       "    </tr>\n",
       "    <tr>\n",
       "      <th>548</th>\n",
       "      <td>Semua Model Bisa, Segini Biaya Remap ECU Yamah...</td>\n",
       "      <td>Yamaha</td>\n",
       "    </tr>\n",
       "    <tr>\n",
       "      <th>549</th>\n",
       "      <td>Bos Dorna Sport Pastikan, Yamaha Punya Tim Sat...</td>\n",
       "      <td>Yamaha</td>\n",
       "    </tr>\n",
       "    <tr>\n",
       "      <th>550</th>\n",
       "      <td>Enggak Cuma Mobil, Yamaha Indonesia Juga Kena ...</td>\n",
       "      <td>Yamaha</td>\n",
       "    </tr>\n",
       "    <tr>\n",
       "      <th>551</th>\n",
       "      <td>Mobil Pesaing Fortuner Meluncur, dan Bocoran M...</td>\n",
       "      <td>Yamaha</td>\n",
       "    </tr>\n",
       "  </tbody>\n",
       "</table>\n",
       "<p>552 rows × 2 columns</p>\n",
       "</div>"
      ],
      "text/plain": [
       "                                                 Title   Brand\n",
       "0                  Audi Siapkan Mobil Q5 Generasi Baru    Audi\n",
       "1                Akhirnya! BMW M4 CSL 2023 Telah Rilis     BMW\n",
       "2    Begini Penampakan Mobil SUV Terbaru yang Menja...     BMW\n",
       "3    BMW Resmi Meluncurkan Mobil dengan Penyegaran ...     BMW\n",
       "4    BMW Astra Ajak Konsumennya Menjajal Sirkuit Se...     BMW\n",
       "..                                                 ...     ...\n",
       "547  Antisipasi Ketikung Tim Lain, Fabio Quartararo...  Yamaha\n",
       "548  Semua Model Bisa, Segini Biaya Remap ECU Yamah...  Yamaha\n",
       "549  Bos Dorna Sport Pastikan, Yamaha Punya Tim Sat...  Yamaha\n",
       "550  Enggak Cuma Mobil, Yamaha Indonesia Juga Kena ...  Yamaha\n",
       "551  Mobil Pesaing Fortuner Meluncur, dan Bocoran M...  Yamaha\n",
       "\n",
       "[552 rows x 2 columns]"
      ]
     },
     "execution_count": 5,
     "metadata": {},
     "output_type": "execute_result"
    }
   ],
   "source": [
    "date = \"Mei 2022\"\n",
    "\n",
    "df.to_csv(f\"../CSV/{date}/sentiment_dataset_unlabelled.csv\")\n",
    "df"
   ]
  }
 ],
 "metadata": {
  "kernelspec": {
   "display_name": "Python 3.7.6 64-bit",
   "language": "python",
   "name": "python3"
  },
  "language_info": {
   "codemirror_mode": {
    "name": "ipython",
    "version": 3
   },
   "file_extension": ".py",
   "mimetype": "text/x-python",
   "name": "python",
   "nbconvert_exporter": "python",
   "pygments_lexer": "ipython3",
   "version": "3.7.6"
  },
  "orig_nbformat": 4,
  "vscode": {
   "interpreter": {
    "hash": "9d30061432820cb98946eb70b0c0903897d55a78bc8822b7d8106c3ae1880d4b"
   }
  }
 },
 "nbformat": 4,
 "nbformat_minor": 2
}
